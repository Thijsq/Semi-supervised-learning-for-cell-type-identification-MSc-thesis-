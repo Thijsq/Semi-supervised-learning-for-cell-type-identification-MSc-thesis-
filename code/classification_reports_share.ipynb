{
 "cells": [
  {
   "cell_type": "code",
   "execution_count": 1,
   "metadata": {},
   "outputs": [],
   "source": [
    "from sklearn.metrics import classification_report\n",
    "from numpy import genfromtxt\n",
    "import pandas as pd\n",
    "import numpy as np"
   ]
  },
  {
   "cell_type": "code",
   "execution_count": 2,
   "metadata": {},
   "outputs": [],
   "source": [
    "true_labels = genfromtxt(\"/data/thijs/thesis/macosko_labels.csv\", \n",
    "                                         delimiter=\",\" ,skip_header=True, usecols=(2))"
   ]
  },
  {
   "cell_type": "markdown",
   "metadata": {},
   "source": [
    "# Predictions Lasso in original space"
   ]
  },
  {
   "cell_type": "code",
   "execution_count": 25,
   "metadata": {},
   "outputs": [],
   "source": [
    "lasso_original_predictions = pd.read_csv('/data/thijs/thesis/lasso_original_mouse.csv', usecols=[1]) \n",
    "lasso_original_predictions = np.array(lasso_original_predictions)"
   ]
  },
  {
   "cell_type": "code",
   "execution_count": 28,
   "metadata": {},
   "outputs": [
    {
     "name": "stdout",
     "output_type": "stream",
     "text": [
      "              precision    recall  f1-score   support\n",
      "\n",
      "    amacrine  0.9213654 0.6830095 0.7844816      4426\n",
      "     bipolar  0.6140671 0.9640414 0.7502476      6285\n",
      "       cones  1.0000000 0.0465739 0.0890026      1868\n",
      "      muller  0.8569875 0.9704433 0.9101935      1624\n",
      "        rods  0.9458095 0.9177891 0.9315887     29400\n",
      "\n",
      "    accuracy                      0.8652616     43603\n",
      "   macro avg  0.8676459 0.7163714 0.6931028     43603\n",
      "weighted avg  0.8945238 0.8652616 0.8536234     43603\n",
      "\n"
     ]
    }
   ],
   "source": [
    "print(classification_report(true_labels, lasso_original_predictions, \n",
    "                            target_names = ['amacrine', 'bipolar', 'cones', 'muller', 'rods'], digits = 7))"
   ]
  },
  {
   "cell_type": "markdown",
   "metadata": {},
   "source": [
    "# Predictions self-learning Lasso in original space"
   ]
  },
  {
   "cell_type": "code",
   "execution_count": 7,
   "metadata": {},
   "outputs": [],
   "source": [
    "ssl_lasso_original_predictions = pd.read_csv('/data/thijs/thesis/ssl_lasso_original_mouse.csv', usecols=[1]) \n",
    "ssl_lasso_original_predictions = np.array(ssl_lasso_original_predictions)"
   ]
  },
  {
   "cell_type": "code",
   "execution_count": 8,
   "metadata": {},
   "outputs": [
    {
     "name": "stdout",
     "output_type": "stream",
     "text": [
      "              precision    recall  f1-score   support\n",
      "\n",
      "    amacrine  0.9201923 0.8648893 0.8916841      4426\n",
      "     bipolar  0.8994677 0.9409706 0.9197512      6285\n",
      "       cones  0.9901840 0.4320128 0.6015654      1868\n",
      "      muller  0.8990878 0.9710591 0.9336886      1624\n",
      "        rods  0.9434635 0.9723129 0.9576710     29400\n",
      "\n",
      "    accuracy                      0.9336972     43603\n",
      "   macro avg  0.9304791 0.8362489 0.8608721     43603\n",
      "weighted avg  0.9351085 0.9336972 0.9293579     43603\n",
      "\n"
     ]
    }
   ],
   "source": [
    "print(classification_report(true_labels, ssl_lasso_original_predictions, \n",
    "                            target_names = ['amacrine', 'bipolar', 'cones', 'muller', 'rods'], digits = 7))"
   ]
  },
  {
   "cell_type": "markdown",
   "metadata": {},
   "source": [
    "# Predictions Lasso in latent space"
   ]
  },
  {
   "cell_type": "code",
   "execution_count": 3,
   "metadata": {},
   "outputs": [],
   "source": [
    "lasso_latent_predictions = pd.read_csv('/data/thijs/thesis/lasso_latent_mouse.csv', usecols=[1]) \n",
    "lasso_latent_predictions = np.array(lasso_latent_predictions)"
   ]
  },
  {
   "cell_type": "code",
   "execution_count": 4,
   "metadata": {},
   "outputs": [
    {
     "name": "stdout",
     "output_type": "stream",
     "text": [
      "              precision    recall  f1-score   support\n",
      "\n",
      "    amacrine  0.9127882 0.9482603 0.9301862      4426\n",
      "     bipolar  0.9603733 0.9331742 0.9465784      6285\n",
      "       cones  0.8107477 0.7430407 0.7754190      1868\n",
      "      muller  0.8059178 0.9895320 0.8883361      1624\n",
      "        rods  0.9692724 0.9624150 0.9658315     29400\n",
      "\n",
      "    accuracy                      0.9483751     43603\n",
      "   macro avg  0.8918199 0.9152844 0.9012702     43603\n",
      "weighted avg  0.9493806 0.9483751 0.9483943     43603\n",
      "\n"
     ]
    }
   ],
   "source": [
    "print(classification_report(true_labels, lasso_latent_predictions, \n",
    "                            target_names = ['amacrine', 'bipolar', 'cones', 'muller', 'rods'], digits = 7))"
   ]
  },
  {
   "cell_type": "markdown",
   "metadata": {},
   "source": [
    "# Predictions self-learning Lasso in latent space"
   ]
  },
  {
   "cell_type": "code",
   "execution_count": 5,
   "metadata": {},
   "outputs": [],
   "source": [
    "ssl_lasso_latent_predictions = pd.read_csv('/data/thijs/thesis/ssl_lasso_latent_mouse.csv', usecols=[1]) \n",
    "ssl_lasso_latent_predictions = np.array(ssl_lasso_latent_predictions)"
   ]
  },
  {
   "cell_type": "code",
   "execution_count": 6,
   "metadata": {},
   "outputs": [
    {
     "name": "stdout",
     "output_type": "stream",
     "text": [
      "              precision    recall  f1-score   support\n",
      "\n",
      "    amacrine  0.9230936 0.9627203 0.9424906      4426\n",
      "     bipolar  0.9700521 0.9482896 0.9590474      6285\n",
      "       cones  0.9753547 0.6991435 0.8144684      1868\n",
      "      muller  0.8830955 0.9907635 0.9338363      1624\n",
      "        rods  0.9695775 0.9788776 0.9742053     29400\n",
      "\n",
      "    accuracy                      0.9612871     43603\n",
      "   macro avg  0.9442347 0.9159589 0.9248096     43603\n",
      "weighted avg  0.9619540 0.9612871 0.9604543     43603\n",
      "\n"
     ]
    }
   ],
   "source": [
    "print(classification_report(true_labels, ssl_lasso_latent_predictions, \n",
    "                            target_names = ['amacrine', 'bipolar', 'cones', 'muller', 'rods'], digits = 7))"
   ]
  },
  {
   "cell_type": "markdown",
   "metadata": {},
   "source": [
    "# Predictions non-overlapping cell types Lasso in latent space"
   ]
  },
  {
   "cell_type": "code",
   "execution_count": 44,
   "metadata": {},
   "outputs": [],
   "source": [
    "lasso_latent_predictions_shekhar4 = pd.read_csv('/data/thijs/thesis/lasso_latent_shekhar4.csv', usecols=[1]) \n",
    "lasso_latent_predictions_shekhar4 = np.array(lasso_latent_predictions_shekhar4)"
   ]
  },
  {
   "cell_type": "code",
   "execution_count": 7,
   "metadata": {},
   "outputs": [],
   "source": [
    "from sklearn.metrics import confusion_matrix"
   ]
  },
  {
   "cell_type": "code",
   "execution_count": 46,
   "metadata": {},
   "outputs": [
    {
     "data": {
      "text/plain": [
       "array([[  726,  2882,    29,   500,   289],\n",
       "       [  252,  5721,    44,    18,   250],\n",
       "       [  263,    11,  1078,     0,   516],\n",
       "       [    7,     3,     1,  1602,    11],\n",
       "       [ 1859,   244,   161,   351, 26785]])"
      ]
     },
     "execution_count": 46,
     "metadata": {},
     "output_type": "execute_result"
    }
   ],
   "source": [
    "confusion_matrix(true_labels, lasso_latent_predictions_shekhar4)"
   ]
  },
  {
   "cell_type": "code",
   "execution_count": 47,
   "metadata": {},
   "outputs": [
    {
     "name": "stdout",
     "output_type": "stream",
     "text": [
      "                       precision    recall  f1-score   support\n",
      "\n",
      "unrecognized celltype  0.2336659 0.1640307 0.1927519      4426\n",
      "              bipolar  0.6456382 0.9102625 0.7554470      6285\n",
      "                cones  0.8210206 0.5770878 0.6777743      1868\n",
      "               muller  0.6483205 0.9864532 0.7824176      1624\n",
      "                 rods  0.9617249 0.9110544 0.9357042     29400\n",
      "\n",
      "             accuracy                      0.8236131     43603\n",
      "            macro avg  0.6620740 0.7097777 0.6688190     43603\n",
      "         weighted avg  0.8245601 0.8236131 0.8175478     43603\n",
      "\n"
     ]
    }
   ],
   "source": [
    "print(classification_report(true_labels, lasso_latent_predictions_shekhar4, \n",
    "                            target_names = ['unrecognized celltype', 'bipolar', 'cones', 'muller', 'rods'], digits = 7))"
   ]
  },
  {
   "cell_type": "markdown",
   "metadata": {},
   "source": [
    "# Predictions non-overlapping cell types self learning Lasso in latent space"
   ]
  },
  {
   "cell_type": "code",
   "execution_count": 48,
   "metadata": {},
   "outputs": [],
   "source": [
    "ssl_lasso_latent_predictions_shekhar4 = pd.read_csv('/data/thijs/thesis/ssl_lasso_latent_shekhar4.csv', usecols=[1])\n",
    "ssl_lasso_latent_predictions_shekhar4 = np.array(ssl_lasso_latent_predictions_shekhar4)"
   ]
  },
  {
   "cell_type": "code",
   "execution_count": 49,
   "metadata": {},
   "outputs": [
    {
     "data": {
      "text/plain": [
       "array([[  111,  3545,    21,   344,   405],\n",
       "       [   44,  5902,    17,    18,   304],\n",
       "       [   49,    18,  1035,     1,   765],\n",
       "       [    1,     4,     4,  1606,     9],\n",
       "       [   23,   289,    23,   209, 28856]])"
      ]
     },
     "execution_count": 49,
     "metadata": {},
     "output_type": "execute_result"
    }
   ],
   "source": [
    "confusion_matrix(true_labels, ssl_lasso_latent_predictions_shekhar4)"
   ]
  },
  {
   "cell_type": "code",
   "execution_count": 50,
   "metadata": {},
   "outputs": [
    {
     "name": "stdout",
     "output_type": "stream",
     "text": [
      "                       precision    recall  f1-score   support\n",
      "\n",
      "unrecognized celltype  0.4868421 0.0250791 0.0477009      4426\n",
      "              bipolar  0.6048371 0.9390613 0.7357726      6285\n",
      "                cones  0.9409091 0.5540685 0.6974394      1868\n",
      "               muller  0.7373737 0.9889163 0.8448185      1624\n",
      "                 rods  0.9511190 0.9814966 0.9660691     29400\n",
      "\n",
      "             accuracy                      0.8602619     43603\n",
      "            macro avg  0.7442162 0.6977243 0.6583601     43603\n",
      "         weighted avg  0.8456798 0.8602619 0.8236288     43603\n",
      "\n"
     ]
    }
   ],
   "source": [
    "print(classification_report(true_labels, ssl_lasso_latent_predictions_shekhar4, \n",
    "                            target_names = ['unrecognized celltype', 'bipolar', 'cones', 'muller', 'rods'], digits = 7))"
   ]
  },
  {
   "cell_type": "markdown",
   "metadata": {},
   "source": [
    "# LASSO in latent macosko 4 cells"
   ]
  },
  {
   "cell_type": "code",
   "execution_count": 8,
   "metadata": {},
   "outputs": [],
   "source": [
    "macosko_4labels  = genfromtxt(\"/data/thijs/thesis/macosko_4labels.csv\", \n",
    "                                         delimiter=\",\" ,skip_header=True, usecols=(2))"
   ]
  },
  {
   "cell_type": "code",
   "execution_count": 9,
   "metadata": {},
   "outputs": [],
   "source": [
    "lasso_latent_predictions_macosko4 = pd.read_csv('/data/thijs/thesis/lasso_latent_macosko4.csv', usecols=[1]) \n",
    "lasso_latent_predictions_macosko4 = np.array(lasso_latent_predictions_macosko4)"
   ]
  },
  {
   "cell_type": "code",
   "execution_count": 12,
   "metadata": {},
   "outputs": [
    {
     "data": {
      "text/plain": [
       "array([[    0,     0,     0,     0,     0],\n",
       "       [   92,  5919,   129,    35,   110],\n",
       "       [    3,    87,  1526,     5,   247],\n",
       "       [    3,     4,     5,  1602,    10],\n",
       "       [  473,   344,   954,  1205, 26424]])"
      ]
     },
     "execution_count": 12,
     "metadata": {},
     "output_type": "execute_result"
    }
   ],
   "source": [
    "confusion_matrix(macosko_4labels, lasso_latent_predictions_macosko4)"
   ]
  },
  {
   "cell_type": "code",
   "execution_count": 10,
   "metadata": {},
   "outputs": [
    {
     "name": "stdout",
     "output_type": "stream",
     "text": [
      "              precision    recall  f1-score   support\n",
      "\n",
      "    amacrine  0.0000000 0.0000000 0.0000000         0\n",
      "     bipolar  0.9315392 0.9417661 0.9366247      6285\n",
      "       cones  0.5837796 0.8169165 0.6809460      1868\n",
      "      muller  0.5626976 0.9864532 0.7166182      1624\n",
      "        rods  0.9863014 0.8987755 0.9405065     29400\n",
      "\n",
      "    accuracy                      0.9054037     39177\n",
      "   macro avg  0.6128636 0.7287823 0.6549391     39177\n",
      "weighted avg  0.9407638 0.9054037 0.9182268     39177\n",
      "\n"
     ]
    },
    {
     "name": "stderr",
     "output_type": "stream",
     "text": [
      "/home/thijs/.local/lib/python3.7/site-packages/sklearn/metrics/_classification.py:1272: UndefinedMetricWarning: Recall and F-score are ill-defined and being set to 0.0 in labels with no true samples. Use `zero_division` parameter to control this behavior.\n",
      "  _warn_prf(average, modifier, msg_start, len(result))\n"
     ]
    }
   ],
   "source": [
    "print(classification_report(macosko_4labels, lasso_latent_predictions_macosko4, \n",
    "                            target_names = ['amacrine', 'bipolar', 'cones', 'muller', 'rods'], digits = 7))"
   ]
  },
  {
   "cell_type": "markdown",
   "metadata": {},
   "source": [
    "# SSL latent Macosko 4 celltypes"
   ]
  },
  {
   "cell_type": "code",
   "execution_count": 13,
   "metadata": {},
   "outputs": [],
   "source": [
    "ssl_lasso_latent_predictions_macosko4 = pd.read_csv('/data/thijs/thesis/ssl_lasso_latent_macosko4.csv', usecols=[1])\n",
    "ssl_lasso_latent_predictions_macosko4 = np.array(ssl_lasso_latent_predictions_macosko4)"
   ]
  },
  {
   "cell_type": "code",
   "execution_count": 14,
   "metadata": {},
   "outputs": [
    {
     "data": {
      "text/plain": [
       "array([[    0,     0,     0,     0,     0],\n",
       "       [   86,  6006,    47,    23,   123],\n",
       "       [    6,    31,  1610,     1,   220],\n",
       "       [    4,     3,     2,  1606,     9],\n",
       "       [  379,   187,   257,   248, 28329]])"
      ]
     },
     "execution_count": 14,
     "metadata": {},
     "output_type": "execute_result"
    }
   ],
   "source": [
    "confusion_matrix(macosko_4labels, ssl_lasso_latent_predictions_macosko4)"
   ]
  },
  {
   "cell_type": "code",
   "execution_count": 15,
   "metadata": {},
   "outputs": [
    {
     "name": "stdout",
     "output_type": "stream",
     "text": [
      "              precision    recall  f1-score   support\n",
      "\n",
      "    amacrine  0.0000000 0.0000000 0.0000000         0\n",
      "     bipolar  0.9645094 0.9556086 0.9600384      6285\n",
      "       cones  0.8402923 0.8618844 0.8509514      1868\n",
      "      muller  0.8551651 0.9889163 0.9171902      1624\n",
      "        rods  0.9877271 0.9635714 0.9754997     29400\n",
      "\n",
      "    accuracy                      0.9584961     39177\n",
      "   macro avg  0.7295388 0.7539961 0.7407359     39177\n",
      "weighted avg  0.9714774 0.9584961 0.9646636     39177\n",
      "\n"
     ]
    }
   ],
   "source": [
    "print(classification_report(macosko_4labels, ssl_lasso_latent_predictions_macosko4, \n",
    "                            target_names = ['amacrine', 'bipolar', 'cones', 'muller', 'rods'], digits = 7))"
   ]
  },
  {
   "cell_type": "code",
   "execution_count": null,
   "metadata": {},
   "outputs": [],
   "source": []
  }
 ],
 "metadata": {
  "kernelspec": {
   "display_name": "Python 3",
   "language": "python",
   "name": "python3"
  },
  "language_info": {
   "codemirror_mode": {
    "name": "ipython",
    "version": 3
   },
   "file_extension": ".py",
   "mimetype": "text/x-python",
   "name": "python",
   "nbconvert_exporter": "python",
   "pygments_lexer": "ipython3",
   "version": "3.7.4"
  }
 },
 "nbformat": 4,
 "nbformat_minor": 2
}
